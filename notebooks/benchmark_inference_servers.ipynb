{
 "cells": [
  {
   "cell_type": "code",
   "execution_count": 1,
   "id": "bd1a3738",
   "metadata": {},
   "outputs": [],
   "source": [
    "import time\n",
    "\n",
    "import httpx\n",
    "from faker import Faker"
   ]
  },
  {
   "cell_type": "code",
   "execution_count": 14,
   "id": "efd771e5",
   "metadata": {},
   "outputs": [],
   "source": [
    "fake = Faker()\n",
    "inputs = [fake.text(1000) for _ in range(100)]"
   ]
  },
  {
   "cell_type": "markdown",
   "id": "c8c177e1",
   "metadata": {},
   "source": [
    "### Benchmark in sequential mode"
   ]
  },
  {
   "cell_type": "code",
   "execution_count": null,
   "id": "c600fbd0",
   "metadata": {},
   "outputs": [
    {
     "name": "stdout",
     "output_type": "stream",
     "text": [
      "Average response time for 100 requests: 0.18 seconds\n"
     ]
    }
   ],
   "source": [
    "def benchmark_ollama(\n",
    "    httpx_client: httpx.Client,\n",
    "    inputs: list[str],\n",
    "    model: str = \"snowflake-arctic-embed2:latest\",\n",
    ") -> list[list[float]]:\n",
    "    route = \"api/embed\"\n",
    "    durations = []\n",
    "    outputs = []\n",
    "    for input in inputs:\n",
    "        start = time.perf_counter()\n",
    "        response = httpx_client.post(route, json={\"model\": model, \"input\": input})\n",
    "        response.raise_for_status()\n",
    "        end = time.perf_counter()\n",
    "        durations.append(end - start)\n",
    "        outputs.append(response.json()[\"embeddings\"][0])\n",
    "\n",
    "    n = len(durations)\n",
    "    print(f\"Average response time for {n} requests: {sum(durations) / n:.2f} seconds\")\n",
    "    return outputs\n",
    "\n",
    "\n",
    "client = httpx.Client(base_url=\"http://olvi-1:11434\")\n",
    "ollama_embeddings = benchmark_ollama(client, inputs=inputs)"
   ]
  },
  {
   "cell_type": "code",
   "execution_count": null,
   "id": "9067246b",
   "metadata": {},
   "outputs": [
    {
     "name": "stdout",
     "output_type": "stream",
     "text": [
      "Average response time for 100 requests: 0.01 seconds\n"
     ]
    }
   ],
   "source": [
    "def benchmark_tei(\n",
    "    httpx_client: httpx.Client,\n",
    "    inputs: list[str],\n",
    ") -> list[list[float]]:\n",
    "    route = \"embed\"\n",
    "    durations = []\n",
    "    outputs = []\n",
    "    for input in inputs:\n",
    "        start = time.perf_counter()\n",
    "        response = httpx_client.post(route, json={\"inputs\": input})\n",
    "        response.raise_for_status()\n",
    "        end = time.perf_counter()\n",
    "        durations.append(end - start)\n",
    "        outputs.append(response.json()[0])\n",
    "\n",
    "    n = len(durations)\n",
    "    print(f\"Average response time for {n} requests: {sum(durations) / n:.2f} seconds\")\n",
    "    return outputs\n",
    "\n",
    "\n",
    "client = httpx.Client(base_url=\"http://olvi-1:8000\")\n",
    "tei_embeddings = benchmark_tei(client, inputs=inputs)"
   ]
  },
  {
   "cell_type": "markdown",
   "id": "13814d93",
   "metadata": {},
   "source": [
    "### Benchmark in batch mode"
   ]
  },
  {
   "cell_type": "code",
   "execution_count": null,
   "id": "dce4c4c7",
   "metadata": {},
   "outputs": [
    {
     "name": "stdout",
     "output_type": "stream",
     "text": [
      "Time taken for 100 requests in batch mode: 2.36 seconds\n"
     ]
    }
   ],
   "source": [
    "start = time.perf_counter()\n",
    "httpx.post(\n",
    "    \"http://olvi-1:11434/api/embed\",\n",
    "    json={\"model\": \"snowflake-arctic-embed2:latest\", \"input\": inputs},\n",
    ")\n",
    "end = time.perf_counter()\n",
    "print(f\"Time taken for 100 requests in batch mode: {end - start:.2f} seconds\")"
   ]
  },
  {
   "cell_type": "code",
   "execution_count": 42,
   "id": "cbc8f3a9",
   "metadata": {},
   "outputs": [
    {
     "name": "stdout",
     "output_type": "stream",
     "text": [
      "Time taken for 100 requests in batch mode: 1.33 seconds\n"
     ]
    }
   ],
   "source": [
    "start = time.perf_counter()\n",
    "response = httpx.post(\"http://olvi-1:8000/embed\", json={\"inputs\": inputs})\n",
    "end = time.perf_counter()\n",
    "print(f\"Time taken for 100 requests in batch mode: {end - start:.2f} seconds\")"
   ]
  },
  {
   "cell_type": "markdown",
   "id": "daf975a2",
   "metadata": {},
   "source": [
    "tl;dr: just use tei.. free 10x speed."
   ]
  },
  {
   "cell_type": "markdown",
   "id": "46d653c9",
   "metadata": {},
   "source": [
    "### Infinity"
   ]
  },
  {
   "cell_type": "code",
   "execution_count": null,
   "id": "62506ed7",
   "metadata": {},
   "outputs": [
    {
     "name": "stdout",
     "output_type": "stream",
     "text": [
      "Time taken for 100 requests in batch mode: 1.63 seconds\n"
     ]
    }
   ],
   "source": [
    "start = time.perf_counter()\n",
    "response = httpx.post(\n",
    "    \"http://olvi-1:7997/embeddings\", json={\"model\": \"intfloat/multilingual-e5-large-instruct\", \"input\": inputs}\n",
    ")\n",
    "end = time.perf_counter()\n",
    "print(f\"Time taken for 100 requests in batch mode: {end - start:.2f} seconds\")\n"
   ]
  },
  {
   "cell_type": "markdown",
   "id": "de905bf0",
   "metadata": {},
   "source": [
    "Somewhat similar speed to TEI, but TEI is more popular."
   ]
  },
  {
   "cell_type": "code",
   "execution_count": null,
   "id": "814bb6b6",
   "metadata": {},
   "outputs": [],
   "source": []
  }
 ],
 "metadata": {
  "kernelspec": {
   "display_name": "bear",
   "language": "python",
   "name": "python3"
  },
  "language_info": {
   "codemirror_mode": {
    "name": "ipython",
    "version": 3
   },
   "file_extension": ".py",
   "mimetype": "text/x-python",
   "name": "python",
   "nbconvert_exporter": "python",
   "pygments_lexer": "ipython3",
   "version": "3.13.1"
  }
 },
 "nbformat": 4,
 "nbformat_minor": 5
}
