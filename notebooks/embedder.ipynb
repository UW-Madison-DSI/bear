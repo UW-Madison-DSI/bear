{
 "cells": [
  {
   "cell_type": "markdown",
   "metadata": {},
   "source": [
    "# Embedder\n",
    "\n",
    "* `BEAR` supports embedding with both `OpenAI` and self-hosted [Text Embedding Inference](https://github.com/huggingface/text-embeddings-inference) server.\n",
    "* Each `bear.model.Resource` must have an `embedding` field, configured via [EmbeddingConfig](../bear/config.py). This defines the embedding server, model, and Milvus index settings.\n",
    "* The default embedder is set using `.env` variables with the prefix `DEFAULT_EMBEDDING_XXX`.\n",
    "* For details, see [embedding.py](../bear/embedding.py).\n"
   ]
  },
  {
   "cell_type": "code",
   "execution_count": 1,
   "metadata": {},
   "outputs": [],
   "source": [
    "from bear.embedding import get_embedder\n",
    "from bear.config import config, EmbeddingConfig"
   ]
  },
  {
   "cell_type": "markdown",
   "metadata": {},
   "source": [
    "## Default embedder usage"
   ]
  },
  {
   "cell_type": "code",
   "execution_count": 9,
   "metadata": {},
   "outputs": [
    {
     "name": "stderr",
     "output_type": "stream",
     "text": [
      "2025-07-23 19:40:32,218 - httpx - INFO - HTTP Request: GET http://olvi-1:8000/info \"HTTP/1.1 200 OK\"\n",
      "2025-07-23 19:40:32,237 - httpx - INFO - HTTP Request: POST http://olvi-1:8000/embeddings \"HTTP/1.1 200 OK\"\n",
      "2025-07-23 19:40:32,248 - httpx - INFO - HTTP Request: POST http://olvi-1:8000/embeddings \"HTTP/1.1 200 OK\"\n"
     ]
    },
    {
     "name": "stdout",
     "output_type": "stream",
     "text": [
      "{'provider': <Provider.TEXT_EMBEDDING_INFERENCE: 'tei'>, 'model': 'intfloat/multilingual-e5-large-instruct', 'max_tokens': 512, 'dimensions': 1024, 'doc_prefix': '', 'query_prefix': 'Instruct: Given a web search query, retrieve relevant passages that answer the query\\nQuery: '}\n",
      "Document 1 vectors: [0.02874486893415451, 0.008454373106360435, -0.028976252302527428]...\n",
      "Document 2 vectors: [0.026782996952533722, 0.00042712956201285124, 0.00021018773259129375]...\n",
      "CPU times: user 59.9 ms, sys: 0 ns, total: 59.9 ms\n",
      "Wall time: 98.5 ms\n"
     ]
    }
   ],
   "source": [
    "%%time\n",
    "# Get default embedder based on the configuration\n",
    "embedder = get_embedder(config.embedding_config)\n",
    "print(embedder.info)\n",
    "\n",
    "# Use the embedder to embed a document\n",
    "vectors = embedder.embed(text=[\"This is a test document.\", \"This is another sentence.\"], text_type=\"doc\")\n",
    "print(f\"Document 1 vectors: {vectors[0][:3]}...\")\n",
    "print(f\"Document 2 vectors: {vectors[1][:3]}...\")"
   ]
  },
  {
   "cell_type": "markdown",
   "metadata": {},
   "source": [
    "## Custom embedder"
   ]
  },
  {
   "cell_type": "code",
   "execution_count": 10,
   "metadata": {},
   "outputs": [
    {
     "name": "stderr",
     "output_type": "stream",
     "text": [
      "2025-07-23 19:40:35,668 - httpx - INFO - HTTP Request: POST https://api.openai.com/v1/embeddings \"HTTP/1.1 200 OK\"\n",
      "2025-07-23 19:40:35,868 - httpx - INFO - HTTP Request: POST https://api.openai.com/v1/embeddings \"HTTP/1.1 200 OK\"\n"
     ]
    },
    {
     "name": "stdout",
     "output_type": "stream",
     "text": [
      "{'provider': <Provider.OPENAI: 'openai'>, 'model': 'text-embedding-3-small', 'dimensions': 1536, 'doc_prefix': '', 'query_prefix': ''}\n",
      "Custom embedder vectors: [-0.0023375607561320066, 0.05312768369913101, 0.03345499932765961]...\n",
      "Custom embedder vectors: [0.03686746209859848, 0.00252012861892581, -0.024845464155077934]...\n",
      "CPU times: user 36.8 ms, sys: 429 μs, total: 37.3 ms\n",
      "Wall time: 960 ms\n"
     ]
    }
   ],
   "source": [
    "%%time\n",
    "custom_embedding_config = EmbeddingConfig(\n",
    "    provider=\"openai\",\n",
    "    server_url=\"https://api.openai.com/v1\",\n",
    "    model=\"text-embedding-3-small\",\n",
    "    dimensions=1536,\n",
    "    max_tokens=1000,\n",
    "    metric_type=\"IP\",\n",
    ")\n",
    "custom_embedder = get_embedder(custom_embedding_config)\n",
    "print(custom_embedder.info)\n",
    "\n",
    "custom_vector = custom_embedder.embed(text=[\"This is a test document.\", \"This is another sentence.\"], text_type=\"doc\")\n",
    "print(f\"Custom embedder vectors: {custom_vector[0][:3]}...\")\n",
    "print(f\"Custom embedder vectors: {custom_vector[1][:3]}...\")"
   ]
  }
 ],
 "metadata": {
  "kernelspec": {
   "display_name": "bear",
   "language": "python",
   "name": "python3"
  },
  "language_info": {
   "codemirror_mode": {
    "name": "ipython",
    "version": 3
   },
   "file_extension": ".py",
   "mimetype": "text/x-python",
   "name": "python",
   "nbconvert_exporter": "python",
   "pygments_lexer": "ipython3",
   "version": "3.13.3"
  }
 },
 "nbformat": 4,
 "nbformat_minor": 2
}
