{
 "cells": [
  {
   "cell_type": "markdown",
   "id": "b944e213",
   "metadata": {},
   "source": [
    "# API Usage\n",
    "\n",
    "The BEAR API is the primary developer-facing tool of our project. It is built with FastAPI, focusing on simplicity and core use cases:\n",
    "\n",
    "- **Search Resource** \u2013 Hybrid search\n",
    "- **Search Author** \u2013 Hybrid search with a cluster (`group-by`) reranker (`aggregate`)\n",
    "- **Chat with Resource** \u2013 Planned (not yet implemented)\n",
    "- **Chat with Author** \u2013 Planned (not yet implemented)\n"
   ]
  },
  {
   "cell_type": "code",
   "execution_count": null,
   "id": "f9df0ae8",
   "metadata": {},
   "outputs": [
    {
     "data": {
      "text/plain": [
       "{'Instruction': 'Try /search_resource?query=your_query_here&top_k=3 or /search_author?query=your_query_here&top_k=3'}"
      ]
     },
     "execution_count": 2,
     "metadata": {},
     "output_type": "execute_result"
    }
   ],
   "source": [
    "import httpx\n",
    "\n",
    "response = httpx.get(\"http://localhost:8000\")\n",
    "response.json()"
   ]
  },
  {
   "cell_type": "markdown",
   "id": "98515c72",
   "metadata": {},
   "source": [
    "## Search Resource"
   ]
  },
  {
   "cell_type": "code",
   "execution_count": 5,
   "id": "b5c01504",
   "metadata": {},
   "outputs": [
    {
     "data": {
      "text/plain": [
       "{'id': 'https://openalex.org/W4394334905',\n",
       " 'doi': 'https://doi.org/10.6084/m9.figshare.14306485',\n",
       " 'title': 'Effects of corn processing on piglet performance and intestinal parameters',\n",
       " 'display_name': 'Effects of corn processing on piglet performance and intestinal parameters',\n",
       " 'publication_year': 2021,\n",
       " 'publication_date': '2021-01-01',\n",
       " 'type': 'dataset',\n",
       " 'cited_by_count': 0,\n",
       " 'source_display_name': 'Figshare',\n",
       " 'topics': ['Animal Nutrition and Physiology',\n",
       "  'Animal Behavior and Welfare Studies',\n",
       "  'Effects of Environmental Stressors on Livestock'],\n",
       " 'abstract': 'ABSTRACT The objective of the present study was to compare the effects of corn processing on performance and intestinal parameters of weanling piglets. To accomplish our goal, 42 piglets (21 days-old, 7.18\u00b11.0 kg body weight) were randomly allocated (seven pens/treatment; three pigs/pen) to one of two treatments: ground corn \u2013 corn ground through a hammer mill with a 1.0-mm screen after being ground by a hammer mill with a 3.0-mm screen, and extruded corn \u2013 corn was wet extruded after being ground by a hammer mill with a 2.0-mm screen and, after extrusion, it was ground by a hammer mill with a 1.0-mm screen. In both methods, corn from the same batch was used. Results were considered statistically significant when P&lt;0.05 and a tendency when P&lt;0.10. Analyses were performed using the GLIMMIX procedure of SAS. Pigs fed ground or extruded corn diet had similar growth performance. Duodenum and jejunum of pigs fed extruded corn had greater villus height compared with those of pigs fed ground corn. Crypt depth was not influenced by corn processing. Duodenum and jejunum of pigs fed extruded corn had greater villus:crypt ratio compared with those of pigs fed ground corn. In the duodenum, the expression of zonula occludens-1 (ZO-1) was greater, and the expression of Occludin-1 tended to be greater in pigs fed the extruded corn diets. There was no effect of corn processing on ZO-1 and Occludin-1 expression in the jejunum, nor TGF-\u03b21 expression in duodenum and jejunum. There was no effect of the type of corn processing on colonic total bacteria or Enterobacteriaceae and Lactobacillus abundance. Piglets fed diets with ground corn or extruded corn have similar growth performance. However, piglets fed diets with extruded corn present improved intestinal morphology and tight junction protein expression compared with those fed ground corn.',\n",
       " 'distance': 0.8217573165893555,\n",
       " 'author_ids': ['https://openalex.org/A5024349832',\n",
       "  'https://openalex.org/A5061739467',\n",
       "  'https://openalex.org/A5016723638',\n",
       "  'https://openalex.org/A5033796171',\n",
       "  'https://openalex.org/A5076938613',\n",
       "  'https://openalex.org/A5034497487',\n",
       "  'https://openalex.org/A5073919022',\n",
       "  'https://openalex.org/A5083699987',\n",
       "  'https://openalex.org/A5089073970']}"
      ]
     },
     "execution_count": 5,
     "metadata": {},
     "output_type": "execute_result"
    }
   ],
   "source": [
    "response = httpx.get(\"http://localhost:8000/search_resource?query=corn&top_k=100&since_year=2020\")\n",
    "response.json()[0]"
   ]
  },
  {
   "cell_type": "markdown",
   "id": "e1187763",
   "metadata": {},
   "source": [
    "## Search Person"
   ]
  },
  {
   "cell_type": "code",
   "execution_count": 8,
   "id": "abaffd88",
   "metadata": {},
   "outputs": [
    {
     "data": {
      "text/plain": [
       "[{'author_id': 'https://openalex.org/A5055080030', 'score': 8.709359288215637},\n",
       " {'author_id': 'https://openalex.org/A5036071829', 'score': 7.923681020736694},\n",
       " {'author_id': 'https://openalex.org/A5061081209', 'score': 4.839542508125305}]"
      ]
     },
     "execution_count": 8,
     "metadata": {},
     "output_type": "execute_result"
    }
   ],
   "source": [
    "response = httpx.get(\"http://localhost:8000/search_author?query=corn&top_k=100&since_year=2020\")\n",
    "response.json()[:3]"
   ]
  },
  {
   "cell_type": "markdown",
   "id": "embed_endpoint_intro",
   "metadata": {},
   "source": [
    "## Embed Endpoint\n",
    "\n",
    "Generate text embeddings using the default embedding model configured in BEAR. This endpoint is useful for:\n",
    "\n",
    "- Creating embeddings for downstream analysis\n",
    "- Computing similarity between texts\n",
    "- Integrating BEAR's embedding pipeline into other workflows\n",
    "\n",
    "The endpoint supports three text types:\n",
    "- `\"query\"` (default) - Adds query prefix if configured\n",
    "- `\"doc\"` - Adds document prefix if configured\n",
    "- `\"raw\"` - No prefix applied (use when you've manually added prefixes)"
   ]
  },
  {
   "cell_type": "code",
   "execution_count": null,
   "id": "embed_endpoint_example",
   "metadata": {},
   "outputs": [],
   "source": [
    "# Embed queries (default behavior)\n",
    "response = httpx.post(\n",
    "    \"http://localhost:8000/embed\",\n",
    "    json={\n",
    "        \"texts\": [\n",
    "            \"What is machine learning?\",\n",
    "            \"How does neural network work?\"\n",
    "        ]\n",
    "    }\n",
    ")\n",
    "query_embeddings = response.json()[\"embeddings\"]\n",
    "print(f\"Generated {len(query_embeddings)} embeddings\")\n",
    "print(f\"Embedding dimension: {len(query_embeddings[0])}\")\n",
    "\n",
    "# Embed documents\n",
    "response = httpx.post(\n",
    "    \"http://localhost:8000/embed\",\n",
    "    json={\n",
    "        \"texts\": [\"Research paper abstract text\"],\n",
    "        \"type\": \"doc\"\n",
    "    }\n",
    ")\n",
    "doc_embeddings = response.json()[\"embeddings\"]\n",
    "print(f\"Document embedding dimension: {len(doc_embeddings[0])}\")"
   ]
  }
 ],
 "metadata": {
  "kernelspec": {
   "display_name": "bear",
   "language": "python",
   "name": "python3"
  },
  "language_info": {
   "codemirror_mode": {
    "name": "ipython",
    "version": 3
   },
   "file_extension": ".py",
   "mimetype": "text/x-python",
   "name": "python",
   "nbconvert_exporter": "python",
   "pygments_lexer": "ipython3",
   "version": "3.13.3"
  }
 },
 "nbformat": 4,
 "nbformat_minor": 5
}