{
 "cells": [
  {
   "cell_type": "markdown",
   "id": "aeed458d",
   "metadata": {},
   "source": [
    "# Example: Directly accessing BEAR data using Milvus's vector store (development use only)\n",
    "\n",
    "The standard API may not expose all available functions. \n",
    "For maximum flexibility, you can interact directly with the vector store using `PyMilvus`.\n",
    "\n",
    "For more details, refer to the [Milvus documentation](https://milvus.io/docs)"
   ]
  },
  {
   "cell_type": "markdown",
   "id": "7911d3ed",
   "metadata": {},
   "source": [
    "### Requirements\n",
    "\n",
    "1. Store the milvus server information in a `.env` file, make sure your `.gitignore` is ignoring `.env`.\n",
    "\n",
    "    ```sh\n",
    "    MILVUS_HOST=vcrge-dsi-027313.cci.wisc.edu\n",
    "    MILVUS_PORT=19530\n",
    "    MILVUS_DB_NAME=dev\n",
    "    MILVUS_TOKEN=user:your_password  # Update this line\n",
    "    ```\n",
    "\n",
    "1. Add `pymilvus>=2.5.14` and `python-dotenv` to your project dependency. For pure python I recommend using `uv`, for project that need conda-forge perhaps use `pixi`\n",
    "\n",
    "1. You must be within the UW network (Use UW's VPN if you are not)\n",
    "\n"
   ]
  },
  {
   "cell_type": "code",
   "execution_count": 1,
   "id": "627a9740",
   "metadata": {},
   "outputs": [
    {
     "data": {
      "text/plain": [
       "True"
      ]
     },
     "execution_count": 1,
     "metadata": {},
     "output_type": "execute_result"
    }
   ],
   "source": [
    "import os\n",
    "from dotenv import load_dotenv\n",
    "from pymilvus import MilvusClient\n",
    "\n",
    "load_dotenv()\n"
   ]
  },
  {
   "cell_type": "code",
   "execution_count": 3,
   "id": "646cbba4",
   "metadata": {},
   "outputs": [],
   "source": [
    "client = MilvusClient(\n",
    "    uri=f\"tcp://{os.getenv('MILVUS_HOST')}:{os.getenv('MILVUS_PORT', 19530)}\",\n",
    "    token=os.getenv(\"MILVUS_TOKEN\", \"\"),\n",
    "    db_name=os.getenv(\"MILVUS_DB_NAME\", \"dev\"),\n",
    ")"
   ]
  },
  {
   "cell_type": "code",
   "execution_count": 4,
   "id": "792ba078",
   "metadata": {},
   "outputs": [
    {
     "data": {
      "text/plain": [
       "['work', 'person']"
      ]
     },
     "execution_count": 4,
     "metadata": {},
     "output_type": "execute_result"
    }
   ],
   "source": [
    "client.list_collections()"
   ]
  },
  {
   "cell_type": "code",
   "execution_count": 5,
   "id": "56e64c3c",
   "metadata": {},
   "outputs": [
    {
     "data": {
      "text/plain": [
       "data: [\"{'institution_id': 'i135310074', 'embedding': [0.0, 0.0], 'id': 'https://openalex.org/A5000037356', 'display_name': 'Lisa A. Frank'}\"], extra_info: {}"
      ]
     },
     "execution_count": 5,
     "metadata": {},
     "output_type": "execute_result"
    }
   ],
   "source": [
    "client.query(\"person\", filter=\"display_name == 'Lisa A. Frank'\")"
   ]
  },
  {
   "cell_type": "code",
   "execution_count": null,
   "id": "d847473c",
   "metadata": {},
   "outputs": [],
   "source": [
    "client.get(\"work\", ids=[\"https://openalex.org/W10005870\"])"
   ]
  },
  {
   "cell_type": "markdown",
   "id": "f12dfab7",
   "metadata": {},
   "source": [
    "You should be able to print some data using the above snippet. For more details of how to use `MilvusClient`, refer to the [Milvus documentation](https://milvus.io/docs)"
   ]
  }
 ],
 "metadata": {
  "kernelspec": {
   "display_name": "bear",
   "language": "python",
   "name": "python3"
  },
  "language_info": {
   "codemirror_mode": {
    "name": "ipython",
    "version": 3
   },
   "file_extension": ".py",
   "mimetype": "text/x-python",
   "name": "python",
   "nbconvert_exporter": "python",
   "pygments_lexer": "ipython3",
   "version": "3.13.3"
  }
 },
 "nbformat": 4,
 "nbformat_minor": 5
}
