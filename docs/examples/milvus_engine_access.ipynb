{
 "cells": [
  {
   "cell_type": "markdown",
   "id": "aeed458d",
   "metadata": {},
   "source": [
    "# Example: Directly accessing BEAR data using Milvus's vector store (development use only)\n",
    "\n",
    "The standard API may not expose all available functions. \n",
    "For maximum flexibility, you can interact directly with the vector store using `PyMilvus`.\n",
    "\n",
    "For more details, refer to the [Milvus documentation](https://milvus.io/docs)"
   ]
  },
  {
   "cell_type": "markdown",
   "id": "7911d3ed",
   "metadata": {},
   "source": [
    "### Requirements\n",
    "\n",
    "1. Store the milvus server information in a `.env` file, make sure your `.gitignore` is ignoring `.env`.\n",
    "\n",
    "    ```sh\n",
    "    MILVUS_HOST=vcrge-dsi-027313.cci.wisc.edu\n",
    "    MILVUS_PORT=19530\n",
    "    MILVUS_DB_NAME=dev\n",
    "    MILVUS_TOKEN=user:your_password  # Update this line\n",
    "    ```\n",
    "\n",
    "1. Add `pymilvus>=2.5.14` and `python-dotenv` to your project dependency. For pure python I recommend using `uv`, for project that need conda-forge perhaps use `pixi`\n",
    "\n",
    "1. You must be within the UW network (Use UW's VPN if you are not)\n",
    "\n"
   ]
  },
  {
   "cell_type": "code",
   "execution_count": null,
   "id": "627a9740",
   "metadata": {},
   "outputs": [],
   "source": [
    "import os\n",
    "from dotenv import load_dotenv\n",
    "from pymilvus import MilvusClient\n",
    "\n",
    "load_dotenv()\n"
   ]
  },
  {
   "cell_type": "code",
   "execution_count": null,
   "id": "646cbba4",
   "metadata": {},
   "outputs": [],
   "source": [
    "client = MilvusClient(\n",
    "    uri=f\"tcp://{os.getenv('MILVUS_HOST')}:{os.getenv('MILVUS_PORT', 19530)}\",\n",
    "    token=os.getenv(\"MILVUS_TOKEN\", \"\"),\n",
    "    db_name=os.getenv(\"MILVUS_DB_NAME\", \"dev\"),\n",
    ")"
   ]
  },
  {
   "cell_type": "code",
   "execution_count": null,
   "id": "792ba078",
   "metadata": {},
   "outputs": [],
   "source": [
    "client.list_collections()"
   ]
  },
  {
   "cell_type": "code",
   "execution_count": null,
   "id": "56e64c3c",
   "metadata": {},
   "outputs": [],
   "source": [
    "client.query(\"person\", filter=\"display_name == 'Lisa A. Frank'\")"
   ]
  },
  {
   "cell_type": "code",
   "execution_count": null,
   "id": "d847473c",
   "metadata": {},
   "outputs": [],
   "source": [
    "client.get(\"work\", ids=[\"https://openalex.org/W10005870\"])"
   ]
  },
  {
   "cell_type": "markdown",
   "id": "f12dfab7",
   "metadata": {},
   "source": [
    "You should be able to print some data using the above snippet. For more details of how to use `MilvusClient`, refer to the [Milvus documentation](https://milvus.io/docs)"
   ]
  },
  {
   "cell_type": "markdown",
   "id": "64a3a304",
   "metadata": {},
   "source": [
    "### Searching with embedding"
   ]
  },
  {
   "cell_type": "code",
   "execution_count": null,
   "id": "a8622d13",
   "metadata": {},
   "outputs": [],
   "source": [
    "import httpx\n",
    "\n",
    "query = \"machine learning\"\n",
    "BEAR_API_BASE_URL = \"https://bear-api.services.dsi.wisc.edu\"\n",
    "\n",
    "response = httpx.post(f\"{BEAR_API_BASE_URL}/embed\", json={\"texts\": [query]})\n",
    "query_embeddings = response.json()[\"embeddings\"]\n",
    "len(\n",
    "    query_embeddings[0]\n",
    ")  # Depends on what the embedding BEAR currently is set to 1024 currently with `intfloat/multilingual-e5-large-instruct`, I may change it later..."
   ]
  },
  {
   "cell_type": "code",
   "execution_count": null,
   "id": "47a96e6d",
   "metadata": {},
   "outputs": [],
   "source": [
    "client.search(\n",
    "    collection_name=\"work\",\n",
    "    data=query_embeddings,\n",
    "    limit=3,\n",
    "    output_fields=[\"title\", \"authors\", \"publication_year\"],\n",
    ")"
   ]
  },
  {
   "cell_type": "markdown",
   "id": "f6c79c51",
   "metadata": {},
   "source": []
  }
 ],
 "metadata": {
  "kernelspec": {
   "display_name": "bear",
   "language": "python",
   "name": "python3"
  },
  "language_info": {
   "codemirror_mode": {
    "name": "ipython",
    "version": 3
   },
   "file_extension": ".py",
   "mimetype": "text/x-python",
   "name": "python",
   "nbconvert_exporter": "python",
   "pygments_lexer": "ipython3",
   "version": "3.13.3"
  }
 },
 "nbformat": 4,
 "nbformat_minor": 5
}
