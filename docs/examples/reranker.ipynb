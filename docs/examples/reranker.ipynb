{
 "cells": [
  {
   "cell_type": "markdown",
   "id": "4303efde",
   "metadata": {},
   "source": [
    "# Reranker\n",
    "\n",
    "Reorder authors using a **custom score** that considers factors like:\n",
    "\n",
    "* **Semantic similarity** to the query\n",
    "* **Citation count / impact**\n",
    "* **Publication recency** (newer works are prioritized)\n",
    "\n",
    "This is useful for highlighting **authors who are both relevant and currently active or impactful**.\n",
    "\n",
    "## High-level procedure\n",
    "\n",
    "1. Calculate the score in each type of `Resource`\n",
    "2. Aggregate by Person"
   ]
  },
  {
   "cell_type": "markdown",
   "id": "5bcb91ed",
   "metadata": {},
   "source": [
    "\n",
    "## Define a Custom Formula in each resource\n",
    "\n",
    "A general scoring formula for each resource can be expressed as:\n",
    "\n",
    "$$\n",
    "W_i = k_s \\cdot s_i^{p_s} \n",
    "    + k_c \\cdot \\log_{10}(c_i + 1)\n",
    "    + \\frac{k_r}{\\log_{10}(y_c - y_i + m_r)}\n",
    "$$\n",
    "\n",
    "Where:\n",
    "\n",
    "* $W_i$ — computed score of a single resource\n",
    "* $s_i$ — semantic similarity between the resource and query\n",
    "* $c_i$ — citation count for the resource\n",
    "* $y_i$ — publication year of the resource\n",
    "* $y_c$ — current year (used to measure **recency**)\n",
    "* $k_s, k_c, k_r$ — scaling factors for similarity, citation, and recency\n",
    "* $p_s$ — exponent to control the weight of similarity\n",
    "* $m_r$ — margin to avoid division by zero and smooth the recency curve\n",
    "\n",
    "\n",
    "### We can define it in code with string like this\n",
    "\n",
    "Allowed parameters:\n",
    "\n",
    "* Safe operators: `log10`, `sqrt`\n",
    "* Timing: `current_year`\n",
    "* Resource property names\n",
    "\n",
    "```python\n",
    "formula = \"distance**3 + log10(cited_by_count + 1) + 1/log10(current_year - publication_year + 3)\"\n",
    "```\n",
    "\n",
    "This example:\n",
    "\n",
    "1. **Rewards relevance** → `distance**3`\n",
    "2. **Rewards high impact** → `log10(cited_by_count+1)`\n",
    "3. **Rewards recency** → `1/log10(current_year - publication_year + 3)`\n",
    "\n",
    "\n"
   ]
  },
  {
   "cell_type": "markdown",
   "id": "f5cdcf3d",
   "metadata": {},
   "source": [
    "\n",
    "## `calculate_resource_score` example\n"
   ]
  },
  {
   "cell_type": "code",
   "execution_count": 1,
   "id": "613a79ae",
   "metadata": {},
   "outputs": [
    {
     "name": "stderr",
     "output_type": "stream",
     "text": [
      "2025-08-01 13:31:59,442 - httpx - INFO - HTTP Request: GET http://olvi-1:8000/info \"HTTP/1.1 200 OK\"\n",
      "2025-08-01 13:31:59,625 - httpx - INFO - HTTP Request: POST http://olvi-1:8000/embeddings \"HTTP/1.1 200 OK\"\n"
     ]
    }
   ],
   "source": [
    "from bear.search import SearchEngine\n",
    "from bear.reranker import ResourceScoringConfig, calculate_resource_score\n",
    "\n",
    "works = SearchEngine().search_resource(\"work\", \"machine learning\", top_k=5)"
   ]
  },
  {
   "cell_type": "code",
   "execution_count": 2,
   "id": "b93c6721",
   "metadata": {},
   "outputs": [
    {
     "data": {
      "text/plain": [
       "{'https://openalex.org/A5007205551': 2.7499951510763396,\n",
       " 'https://openalex.org/A5011335346': 2.816261857033572,\n",
       " 'https://openalex.org/A5015902472': 2.7499951510763396,\n",
       " 'https://openalex.org/A5027246402': 2.843364030106179,\n",
       " 'https://openalex.org/A5028372112': 2.7499951510763396,\n",
       " 'https://openalex.org/A5051336681': 3.889355412230575,\n",
       " 'https://openalex.org/A5052159611': 1.6747544852790681,\n",
       " 'https://openalex.org/A5065160332': 2.816261857033572,\n",
       " 'https://openalex.org/A5079166112': 3.889355412230575,\n",
       " 'https://openalex.org/A5088826068': 2.816261857033572,\n",
       " 'https://openalex.org/A5100731437': 2.7499951510763396,\n",
       " 'https://openalex.org/A5101618713': 3.889355412230575,\n",
       " 'https://openalex.org/A5102902731': 2.816261857033572}"
      ]
     },
     "execution_count": 2,
     "metadata": {},
     "output_type": "execute_result"
    }
   ],
   "source": [
    "config = ResourceScoringConfig(\n",
    "    resource=\"work\", formula=\"distance**3 + log10(cited_by_count + 1) + 1/log10(current_year - publication_year + 3)\", min_distance=0.8, n_per_author=3\n",
    ")\n",
    "\n",
    "calculate_resource_score(works, config)\n",
    "\n",
    "# return: {author_id: score, ...}"
   ]
  },
  {
   "cell_type": "markdown",
   "id": "d60c9130",
   "metadata": {},
   "source": [
    "## `Reranker` example"
   ]
  },
  {
   "cell_type": "code",
   "execution_count": 3,
   "id": "0d19d1ef",
   "metadata": {},
   "outputs": [],
   "source": [
    "from bear.reranker import get_reranker"
   ]
  },
  {
   "cell_type": "code",
   "execution_count": 4,
   "id": "cb1140c4",
   "metadata": {},
   "outputs": [
    {
     "data": {
      "text/plain": [
       "[{'id': 'https://openalex.org/A5051336681',\n",
       "  'scores': {'total': 3.4879251880907427, 'work': 3.4879251880907427}},\n",
       " {'id': 'https://openalex.org/A5079166112',\n",
       "  'scores': {'total': 3.4879251880907427, 'work': 3.4879251880907427}},\n",
       " {'id': 'https://openalex.org/A5101618713',\n",
       "  'scores': {'total': 3.4879251880907427, 'work': 3.4879251880907427}},\n",
       " {'id': 'https://openalex.org/A5027246402',\n",
       "  'scores': {'total': 2.5357178876045268, 'work': 2.5357178876045268}},\n",
       " {'id': 'https://openalex.org/A5065160332',\n",
       "  'scores': {'total': 2.173139543205437, 'work': 2.173139543205437}},\n",
       " {'id': 'https://openalex.org/A5011335346',\n",
       "  'scores': {'total': 2.173139543205437, 'work': 2.173139543205437}},\n",
       " {'id': 'https://openalex.org/A5102902731',\n",
       "  'scores': {'total': 2.173139543205437, 'work': 2.173139543205437}},\n",
       " {'id': 'https://openalex.org/A5088826068',\n",
       "  'scores': {'total': 2.173139543205437, 'work': 2.173139543205437}},\n",
       " {'id': 'https://openalex.org/A5100731437',\n",
       "  'scores': {'total': 1.433595790381236, 'work': 1.433595790381236}},\n",
       " {'id': 'https://openalex.org/A5007205551',\n",
       "  'scores': {'total': 1.433595790381236, 'work': 1.433595790381236}},\n",
       " {'id': 'https://openalex.org/A5028372112',\n",
       "  'scores': {'total': 1.433595790381236, 'work': 1.433595790381236}},\n",
       " {'id': 'https://openalex.org/A5015902472',\n",
       "  'scores': {'total': 1.433595790381236, 'work': 1.433595790381236}},\n",
       " {'id': 'https://openalex.org/A5052159611',\n",
       "  'scores': {'total': 1.4064244663824488, 'work': 1.4064244663824488}}]"
      ]
     },
     "execution_count": 4,
     "metadata": {},
     "output_type": "execute_result"
    }
   ],
   "source": [
    "get_reranker(\"default\").rerank({\"work\": works})  # system default reranker\n"
   ]
  },
  {
   "cell_type": "code",
   "execution_count": null,
   "id": "1a7224ae",
   "metadata": {},
   "outputs": [],
   "source": [
    "# Or in more complex system with multiple resources\n",
    "# get_reranker(\"default\").rerank({\"work\": works, \"grants\": grants, \"patents\": patents})"
   ]
  }
 ],
 "metadata": {
  "kernelspec": {
   "display_name": "bear",
   "language": "python",
   "name": "python3"
  },
  "language_info": {
   "codemirror_mode": {
    "name": "ipython",
    "version": 3
   },
   "file_extension": ".py",
   "mimetype": "text/x-python",
   "name": "python",
   "nbconvert_exporter": "python",
   "pygments_lexer": "ipython3",
   "version": "3.13.3"
  }
 },
 "nbformat": 4,
 "nbformat_minor": 5
}
